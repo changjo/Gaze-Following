{
 "cells": [
  {
   "cell_type": "code",
   "execution_count": 1,
   "metadata": {},
   "outputs": [],
   "source": [
    "import scipy.io as sio"
   ]
  },
  {
   "cell_type": "code",
   "execution_count": 2,
   "metadata": {},
   "outputs": [],
   "source": [
    "mat_data = sio.loadmat('/data/datasets/VideoGaze/data/videogaze.mat')"
   ]
  },
  {
   "cell_type": "code",
   "execution_count": 3,
   "metadata": {},
   "outputs": [],
   "source": [
    "videogaze = mat_data['videogaze']"
   ]
  },
  {
   "cell_type": "code",
   "execution_count": 4,
   "metadata": {},
   "outputs": [
    {
     "name": "stdout",
     "output_type": "stream",
     "text": [
      "0 ['tt0111161.sf-102197.ef-103336.video.mp4/0000000556.jpg']\n",
      "1 [[0.584   0.45254]]\n",
      "2 [[0.55 0.04 0.43 0.92]]\n",
      "3 [[0.46181818 0.052      0.10909091 0.2496    ]]\n",
      "4 ['tt0111161.sf-102197.ef-103336.video.mp4/1.jpg']\n",
      "5 ['train']\n",
      "6 [[(array(['tt0111161.sf-102197.ef-103336.video.mp4/0000000575.jpg'],\n",
      "      dtype='<U54'), array([[0.656]]), array([[0.342     , 0.24845951]]))\n",
      "  (array(['tt0111161.sf-102197.ef-103336.video.mp4/0000000605.jpg'],\n",
      "      dtype='<U54'), array([[1.656]]), array([[0.36333333, 0.20666667]]))\n",
      "  (array(['tt0111161.sf-102197.ef-103336.video.mp4/0000000515.jpg'],\n",
      "      dtype='<U54'), array([[-1.344]]), array([[0.28333333, 0.24      ]]))\n",
      "  (array(['tt0111161.sf-102197.ef-103336.video.mp4/0000000545.jpg'],\n",
      "      dtype='<U54'), array([[-0.344]]), array([[0.24      , 0.20333333]]))\n",
      "  (array(['tt0111161.sf-102197.ef-103336.video.mp4/0000000635.jpg'],\n",
      "      dtype='<U54'), array([[2.656]]), array([[0.39333333, 0.21333333]]))]]\n"
     ]
    }
   ],
   "source": [
    "for i in range(len(videogaze[0][0])):\n",
    "    print(i, videogaze[0][0][i])"
   ]
  },
  {
   "cell_type": "code",
   "execution_count": 5,
   "metadata": {},
   "outputs": [
    {
     "data": {
      "text/plain": [
       "(1, 32816)"
      ]
     },
     "execution_count": 5,
     "metadata": {},
     "output_type": "execute_result"
    }
   ],
   "source": [
    "videogaze.shape"
   ]
  },
  {
   "cell_type": "code",
   "execution_count": 6,
   "metadata": {},
   "outputs": [],
   "source": [
    "train = []\n",
    "test = []\n",
    "\n",
    "for i in range(videogaze.shape[1]):\n",
    "    source_image, eyes, body_box, head_box, head_image, split, gaze_annotation = videogaze[0, i]\n",
    "\n",
    "    source_name = source_image[0]\n",
    "    eyes_x, eyes_y = eyes[0]\n",
    "    head_image = head_image[0]\n",
    "    split = split[0]\n",
    "    gaze_annotation = gaze_annotation[0]\n",
    "    flip = 1\n",
    "    \n",
    "    num_gaze = len(gaze_annotation)\n",
    "    for j in range(num_gaze):\n",
    "        target_name = gaze_annotation[j][0][0]\n",
    "        gaze_x, gaze_y = gaze_annotation[j][2][0]\n",
    "\n",
    "        line = \"{} {} {} {} {} {} {} {}\".format(source_name, target_name, head_image, flip, eyes_x, eyes_y, gaze_x, gaze_y)\n",
    "        if split == 'train':\n",
    "            train.append(line)\n",
    "        elif split == 'test':\n",
    "            test.append(line)\n",
    "        else:\n",
    "            raise ValueError('Should be train or test split')"
   ]
  },
  {
   "cell_type": "code",
   "execution_count": 7,
   "metadata": {},
   "outputs": [],
   "source": [
    "def write_file(filename, line_list):\n",
    "    with open(filename, 'w') as f:\n",
    "        for line in line_list:\n",
    "            f.write(line + '\\n')"
   ]
  },
  {
   "cell_type": "code",
   "execution_count": 8,
   "metadata": {},
   "outputs": [],
   "source": [
    "write_file('train.txt', train)"
   ]
  },
  {
   "cell_type": "code",
   "execution_count": 9,
   "metadata": {},
   "outputs": [],
   "source": [
    "write_file('test.txt', test)"
   ]
  },
  {
   "cell_type": "code",
   "execution_count": null,
   "metadata": {},
   "outputs": [],
   "source": []
  }
 ],
 "metadata": {
  "kernelspec": {
   "display_name": "Python 3",
   "language": "python",
   "name": "python3"
  },
  "language_info": {
   "codemirror_mode": {
    "name": "ipython",
    "version": 3
   },
   "file_extension": ".py",
   "mimetype": "text/x-python",
   "name": "python",
   "nbconvert_exporter": "python",
   "pygments_lexer": "ipython3",
   "version": "3.6.5"
  }
 },
 "nbformat": 4,
 "nbformat_minor": 2
}
